{
 "cells": [
  {
   "cell_type": "code",
   "execution_count": 16,
   "metadata": {},
   "outputs": [],
   "source": [
    "import csv\n",
    "import numpy as np"
   ]
  },
  {
   "cell_type": "code",
   "execution_count": 17,
   "metadata": {},
   "outputs": [],
   "source": [
    "### parse the CSV file into a matrix 10000 users x 1000 movies with the vote they had for some movies\n",
    "def parser(path_csv) :\n",
    "    maxUserId = 0\n",
    "    maxMovieId = 0\n",
    "    with open(path_csv, 'r') as csvfile:\n",
    "        linereader = csv.reader(csvfile, delimiter = ',')\n",
    "        next(linereader)\n",
    "        \n",
    "        for row in linereader:\n",
    "            rx, cy = row[0].split('_')\n",
    "            x, y = int(rx[1:]), int(cy[1:])\n",
    "            maxUserId = max(maxUserId, x)\n",
    "            maxMovieId = max(maxMovieId, y)\n",
    "    sparse_matrix = np.zeros((maxUserId,maxMovieId))\n",
    "    with open(path_csv, 'r') as csvfile:\n",
    "        linereader = csv.reader(csvfile, delimiter = ',')\n",
    "        next(linereader)\n",
    "        for row in linereader:\n",
    "            rx, cy = row[0].split('_')\n",
    "            x, y = int(rx[1:]), int(cy[1:])\n",
    "            sparse_matrix[x-1][y-1] = int(row[1])\n",
    "    return sparse_matrix"
   ]
  },
  {
   "cell_type": "code",
   "execution_count": 18,
   "metadata": {},
   "outputs": [
    {
     "data": {
      "text/plain": [
       "'../../data/data_train.csv'"
      ]
     },
     "execution_count": 18,
     "metadata": {},
     "output_type": "execute_result"
    }
   ],
   "source": [
    "### path to the data\n",
    "path = \"../../data/\"\n",
    "file_to_read = \"data_train.csv\"\n",
    "fileread = path + file_to_read\n",
    "fileread"
   ]
  },
  {
   "cell_type": "code",
   "execution_count": 19,
   "metadata": {},
   "outputs": [
    {
     "data": {
      "text/plain": [
       "array([[0., 0., 0., ..., 0., 0., 0.],\n",
       "       [0., 0., 0., ..., 5., 3., 3.],\n",
       "       [0., 0., 0., ..., 0., 0., 0.],\n",
       "       ...,\n",
       "       [0., 0., 0., ..., 0., 0., 0.],\n",
       "       [0., 0., 0., ..., 0., 0., 0.],\n",
       "       [0., 0., 0., ..., 0., 0., 3.]])"
      ]
     },
     "execution_count": 19,
     "metadata": {},
     "output_type": "execute_result"
    }
   ],
   "source": [
    "parser(fileread)"
   ]
  }
 ],
 "metadata": {
  "kernelspec": {
   "display_name": "Python 3",
   "language": "python",
   "name": "python3"
  },
  "language_info": {
   "codemirror_mode": {
    "name": "ipython",
    "version": 3
   },
   "file_extension": ".py",
   "mimetype": "text/x-python",
   "name": "python",
   "nbconvert_exporter": "python",
   "pygments_lexer": "ipython3",
   "version": "3.6.5"
  }
 },
 "nbformat": 4,
 "nbformat_minor": 2
}
