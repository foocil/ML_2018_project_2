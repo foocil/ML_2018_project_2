{
 "cells": [
  {
   "cell_type": "code",
   "execution_count": 2,
   "metadata": {},
   "outputs": [],
   "source": [
    "import pandas as pd\n",
    "import numpy as np\n",
    "import matplotlib.pyplot as plt\n",
    "import warnings\n",
    "from sklearn.model_selection import train_test_split\n",
    "from sklearn.metrics import mean_absolute_error\n",
    "import keras\n",
    "import csv\n",
    "from IPython.display import SVG\n",
    "from keras.optimizers import Adam\n",
    "from keras.utils.vis_utils import model_to_dot\n",
    "from keras.constraints import non_neg\n",
    "import os.path\n",
    "warnings.filterwarnings('ignore')\n",
    "\n",
    "%matplotlib inline\n",
    "%run '../src/models/neural_network/nn.py'"
   ]
  },
  {
   "cell_type": "markdown",
   "metadata": {},
   "source": [
    "## Loading Data"
   ]
  },
  {
   "cell_type": "markdown",
   "metadata": {},
   "source": [
    "Neural Network needs a particular way of storing the data.\n",
    "So, we have to load the raw data and re-store them in a `DataFrame` way.\n",
    "Because this operation take long, the data frame will be stored in a csv file to be loaded quickly in the future."
   ]
  },
  {
   "cell_type": "markdown",
   "metadata": {},
   "source": [
    "Let's check if the data frame csv files exists.\n",
    "If they don't, we create them."
   ]
  },
  {
   "cell_type": "code",
   "execution_count": 3,
   "metadata": {},
   "outputs": [],
   "source": [
    "if (not os.path.exists(\"../data/data_frame.csv\")):\n",
    "    createDataFrameCSV(\"../data/data_train.csv\", \"../data/data_frame.csv\")"
   ]
  },
  {
   "cell_type": "code",
   "execution_count": 4,
   "metadata": {},
   "outputs": [],
   "source": [
    "if (not os.path.exists(\"../data/sample_dataFrame.csv\")):\n",
    "    createDataFrameCSV(\"../data/sample_submission.csv\", \"../data/sample_dataFrame.csv\")"
   ]
  },
  {
   "cell_type": "markdown",
   "metadata": {},
   "source": [
    "Now that we are sure that those files exist, let's load them."
   ]
  },
  {
   "cell_type": "code",
   "execution_count": 5,
   "metadata": {},
   "outputs": [],
   "source": [
    "df = pd.read_csv(\"../data/data_frame.csv\", sep=',')\n",
    "df.user_id = df.user_id.astype('category').cat.codes.values\n",
    "df.item_id = df.item_id.astype('category').cat.codes.values"
   ]
  },
  {
   "cell_type": "code",
   "execution_count": 6,
   "metadata": {},
   "outputs": [],
   "source": [
    "subdf = pd.read_csv('../data/sample_dataFrame.csv')\n",
    "subdf.user_id = subdf.user_id.astype('category').cat.codes.values\n",
    "subdf.item_id = subdf.item_id.astype('category').cat.codes.values"
   ]
  },
  {
   "cell_type": "code",
   "execution_count": 7,
   "metadata": {},
   "outputs": [
    {
     "data": {
      "text/plain": [
       "10000"
      ]
     },
     "execution_count": 7,
     "metadata": {},
     "output_type": "execute_result"
    }
   ],
   "source": [
    "n_users = len(df.user_id.unique())\n",
    "n_users"
   ]
  },
  {
   "cell_type": "code",
   "execution_count": 8,
   "metadata": {},
   "outputs": [
    {
     "data": {
      "text/plain": [
       "1000"
      ]
     },
     "execution_count": 8,
     "metadata": {},
     "output_type": "execute_result"
    }
   ],
   "source": [
    "n_items = len(df.item_id.unique())\n",
    "n_items"
   ]
  },
  {
   "cell_type": "markdown",
   "metadata": {},
   "source": [
    "Change this `nonneg` varialble to add a non-negativity constraint on neural networks."
   ]
  },
  {
   "cell_type": "code",
   "execution_count": 23,
   "metadata": {},
   "outputs": [],
   "source": [
    "nonneg = False"
   ]
  },
  {
   "cell_type": "markdown",
   "metadata": {},
   "source": [
    "## Matrix Factorization with Neural Network\n",
    "Inspiration taken from https://nipunbatra.github.io/blog/2017/recommend-keras.html\n",
    "\n",
    "Let's initiate and create the model.\n",
    "See `src/models/neural_network/nn.py` for model implementation.\n",
    "Feel free to tune `n_latent_users` and `n_latent_items` parameters."
   ]
  },
  {
   "cell_type": "code",
   "execution_count": 28,
   "metadata": {},
   "outputs": [
    {
     "name": "stdout",
     "output_type": "stream",
     "text": [
      "__________________________________________________________________________________________________\n",
      "Layer (type)                    Output Shape         Param #     Connected to                     \n",
      "==================================================================================================\n",
      "Item (InputLayer)               (None, 1)            0                                            \n",
      "__________________________________________________________________________________________________\n",
      "User (InputLayer)               (None, 1)            0                                            \n",
      "__________________________________________________________________________________________________\n",
      "Movie-Embedding (Embedding)     (None, 1, 32)        32032       Item[0][0]                       \n",
      "__________________________________________________________________________________________________\n",
      "User-Embedding (Embedding)      (None, 1, 32)        320032      User[0][0]                       \n",
      "__________________________________________________________________________________________________\n",
      "FlattenMovies (Flatten)         (None, 32)           0           Movie-Embedding[0][0]            \n",
      "__________________________________________________________________________________________________\n",
      "FlattenUsers (Flatten)          (None, 32)           0           User-Embedding[0][0]             \n",
      "__________________________________________________________________________________________________\n",
      "dropout_10 (Dropout)            (None, 32)           0           FlattenMovies[0][0]              \n",
      "__________________________________________________________________________________________________\n",
      "dropout_11 (Dropout)            (None, 32)           0           FlattenUsers[0][0]               \n",
      "__________________________________________________________________________________________________\n",
      "Concat (Concatenate)            (None, 64)           0           dropout_10[0][0]                 \n",
      "                                                                 dropout_11[0][0]                 \n",
      "__________________________________________________________________________________________________\n",
      "FullyConnected-1 (Dense)        (None, 100)          6500        Concat[0][0]                     \n",
      "__________________________________________________________________________________________________\n",
      "FullyConnected-2 (Dense)        (None, 50)           5050        FullyConnected-1[0][0]           \n",
      "__________________________________________________________________________________________________\n",
      "FullyConnected-3 (Dense)        (None, 20)           1020        FullyConnected-2[0][0]           \n",
      "__________________________________________________________________________________________________\n",
      "Activation (Dense)              (None, 1)            21          FullyConnected-3[0][0]           \n",
      "==================================================================================================\n",
      "Total params: 364,655\n",
      "Trainable params: 364,655\n",
      "Non-trainable params: 0\n",
      "__________________________________________________________________________________________________\n"
     ]
    }
   ],
   "source": [
    "factor = NeuralFactor(n_latent_users=32, n_latent_items=32, nonneg=nonneg)\n",
    "factor.create_model(n_users, n_items)\n",
    "factor.model.summary()"
   ]
  },
  {
   "cell_type": "markdown",
   "metadata": {},
   "source": [
    "Neural network training.\n",
    "Feel free to change the `epochs` (default = 100)"
   ]
  },
  {
   "cell_type": "code",
   "execution_count": 29,
   "metadata": {
    "scrolled": true
   },
   "outputs": [
    {
     "name": "stdout",
     "output_type": "stream",
     "text": [
      "Train on 964710 samples, validate on 241178 samples\n",
      "Epoch 1/100\n",
      "964710/964710 [==============================] - 959s 994us/step - loss: 0.8240 - val_loss: 0.7996\n",
      "Epoch 2/100\n",
      "964710/964710 [==============================] - 83s 86us/step - loss: 0.8019 - val_loss: 0.8058\n",
      "Epoch 3/100\n",
      "964710/964710 [==============================] - 81s 84us/step - loss: 0.7982 - val_loss: 0.8023\n",
      "Epoch 4/100\n",
      "964710/964710 [==============================] - 78s 81us/step - loss: 0.7970 - val_loss: 0.7948\n",
      "Epoch 5/100\n",
      "964710/964710 [==============================] - 78s 81us/step - loss: 0.7967 - val_loss: 0.7976\n",
      "Epoch 6/100\n",
      "964710/964710 [==============================] - 78s 80us/step - loss: 0.7948 - val_loss: 0.8122\n",
      "Epoch 7/100\n",
      "964710/964710 [==============================] - 76s 79us/step - loss: 0.7948 - val_loss: 0.7997\n",
      "Epoch 8/100\n",
      "964710/964710 [==============================] - 76s 79us/step - loss: 0.7942 - val_loss: 0.8097\n",
      "Epoch 9/100\n",
      "964710/964710 [==============================] - 76s 78us/step - loss: 0.7967 - val_loss: 0.7957\n",
      "Epoch 10/100\n",
      "964710/964710 [==============================] - 75s 78us/step - loss: 0.7960 - val_loss: 0.8010\n",
      "Epoch 11/100\n",
      "964710/964710 [==============================] - 77s 80us/step - loss: 0.8083 - val_loss: 0.7941\n",
      "Epoch 12/100\n",
      "964710/964710 [==============================] - 77s 80us/step - loss: 0.7941 - val_loss: 0.7899\n",
      "Epoch 13/100\n",
      "964710/964710 [==============================] - 76s 79us/step - loss: 0.7994 - val_loss: 0.7902\n",
      "Epoch 14/100\n",
      "964710/964710 [==============================] - 79s 82us/step - loss: 0.8090 - val_loss: 0.7899\n",
      "Epoch 15/100\n",
      "964710/964710 [==============================] - 76s 79us/step - loss: 0.8301 - val_loss: 0.8016\n",
      "Epoch 16/100\n",
      "964710/964710 [==============================] - 77s 79us/step - loss: 0.7963 - val_loss: 0.7942\n",
      "Epoch 17/100\n",
      "964710/964710 [==============================] - 76s 79us/step - loss: 0.8197 - val_loss: 0.8024\n",
      "Epoch 18/100\n",
      "964710/964710 [==============================] - 77s 80us/step - loss: 0.7994 - val_loss: 0.7903\n",
      "Epoch 19/100\n",
      "964710/964710 [==============================] - 76s 79us/step - loss: 0.7954 - val_loss: 0.7973\n",
      "Epoch 20/100\n",
      "964710/964710 [==============================] - 76s 79us/step - loss: 0.7964 - val_loss: 0.8102\n",
      "Epoch 21/100\n",
      "964710/964710 [==============================] - 76s 79us/step - loss: 0.8024 - val_loss: 0.8074\n",
      "Epoch 22/100\n",
      "964710/964710 [==============================] - 76s 79us/step - loss: 0.8024 - val_loss: 0.7964\n",
      "Epoch 23/100\n",
      "964710/964710 [==============================] - 77s 80us/step - loss: 0.8085 - val_loss: 0.7908\n",
      "Epoch 24/100\n",
      "964710/964710 [==============================] - 76s 79us/step - loss: 0.8043 - val_loss: 0.7975\n",
      "Epoch 25/100\n",
      "964710/964710 [==============================] - 76s 79us/step - loss: 0.8252 - val_loss: 0.8004\n",
      "Epoch 26/100\n",
      "964710/964710 [==============================] - 78s 81us/step - loss: 0.8068 - val_loss: 0.7902\n",
      "Epoch 27/100\n",
      "964710/964710 [==============================] - 77s 80us/step - loss: 0.8078 - val_loss: 0.8229\n",
      "Epoch 28/100\n",
      "964710/964710 [==============================] - 76s 79us/step - loss: 0.8256 - val_loss: 0.8222\n",
      "Epoch 29/100\n",
      "964710/964710 [==============================] - 75s 78us/step - loss: 0.8012 - val_loss: 0.8294\n",
      "Epoch 30/100\n",
      "964710/964710 [==============================] - 77s 80us/step - loss: 0.8071 - val_loss: 0.8177\n",
      "Epoch 31/100\n",
      "964710/964710 [==============================] - 78s 81us/step - loss: 0.8051 - val_loss: 0.8272\n",
      "Epoch 32/100\n",
      "964710/964710 [==============================] - 77s 79us/step - loss: 0.7988 - val_loss: 0.7977\n",
      "Epoch 33/100\n",
      "964710/964710 [==============================] - 75s 78us/step - loss: 0.8017 - val_loss: 0.7976\n",
      "Epoch 34/100\n",
      "964710/964710 [==============================] - 77s 80us/step - loss: 0.8161 - val_loss: 0.8026\n",
      "Epoch 35/100\n",
      "964710/964710 [==============================] - 76s 79us/step - loss: 0.8327 - val_loss: 0.7985\n",
      "Epoch 36/100\n",
      "964710/964710 [==============================] - 77s 80us/step - loss: 0.8205 - val_loss: 0.8128\n",
      "Epoch 37/100\n",
      "964710/964710 [==============================] - 77s 80us/step - loss: 0.8376 - val_loss: 0.7912\n",
      "Epoch 38/100\n",
      "964710/964710 [==============================] - 77s 80us/step - loss: 0.8238 - val_loss: 0.7957\n",
      "Epoch 39/100\n",
      "964710/964710 [==============================] - 77s 80us/step - loss: 0.8003 - val_loss: 0.7943\n",
      "Epoch 40/100\n",
      "964710/964710 [==============================] - 77s 80us/step - loss: 0.8001 - val_loss: 0.8106\n",
      "Epoch 41/100\n",
      "964710/964710 [==============================] - 77s 80us/step - loss: 0.8264 - val_loss: 0.7969\n",
      "Epoch 42/100\n",
      "964710/964710 [==============================] - 77s 80us/step - loss: 0.8021 - val_loss: 0.8187\n",
      "Epoch 43/100\n",
      "964710/964710 [==============================] - 76s 79us/step - loss: 0.8187 - val_loss: 0.7925\n",
      "Epoch 44/100\n",
      "964710/964710 [==============================] - 76s 79us/step - loss: 0.7944 - val_loss: 0.8027\n",
      "Epoch 45/100\n",
      "964710/964710 [==============================] - 75s 78us/step - loss: 0.8069 - val_loss: 0.8003\n",
      "Epoch 46/100\n",
      "964710/964710 [==============================] - 76s 79us/step - loss: 0.8234 - val_loss: 0.8228\n",
      "Epoch 47/100\n",
      "964710/964710 [==============================] - 77s 80us/step - loss: 0.7925 - val_loss: 0.7956\n",
      "Epoch 48/100\n",
      "964710/964710 [==============================] - 77s 80us/step - loss: 0.7919 - val_loss: 0.8074\n",
      "Epoch 49/100\n",
      "964710/964710 [==============================] - 82s 85us/step - loss: 0.8177 - val_loss: 0.8078\n",
      "Epoch 50/100\n",
      "964710/964710 [==============================] - 80s 83us/step - loss: 0.8087 - val_loss: 0.8023\n",
      "Epoch 51/100\n",
      "964710/964710 [==============================] - 84s 87us/step - loss: 0.8130 - val_loss: 0.8024\n",
      "Epoch 52/100\n",
      "964710/964710 [==============================] - 79s 82us/step - loss: 0.8055 - val_loss: 0.7957\n",
      "Epoch 53/100\n",
      "964710/964710 [==============================] - 80s 83us/step - loss: 0.8037 - val_loss: 0.7919\n",
      "Epoch 54/100\n",
      "964710/964710 [==============================] - 84s 87us/step - loss: 0.8220 - val_loss: 0.7948\n",
      "Epoch 55/100\n",
      "964710/964710 [==============================] - 80s 83us/step - loss: 0.8050 - val_loss: 0.7901\n",
      "Epoch 56/100\n",
      "964710/964710 [==============================] - 80s 83us/step - loss: 0.8026 - val_loss: 0.7852\n",
      "Epoch 57/100\n",
      "964710/964710 [==============================] - 80s 83us/step - loss: 0.8600 - val_loss: 0.7887\n",
      "Epoch 58/100\n",
      "964710/964710 [==============================] - 80s 83us/step - loss: 0.8043 - val_loss: 0.8029\n",
      "Epoch 59/100\n",
      "964710/964710 [==============================] - 79s 82us/step - loss: 0.7931 - val_loss: 0.7824\n",
      "Epoch 60/100\n",
      "964710/964710 [==============================] - 79s 82us/step - loss: 0.7943 - val_loss: 0.7840\n",
      "Epoch 61/100\n",
      "964710/964710 [==============================] - 80s 82us/step - loss: 0.8186 - val_loss: 0.7855\n",
      "Epoch 62/100\n",
      "964710/964710 [==============================] - 79s 82us/step - loss: 0.7996 - val_loss: 0.7841\n",
      "Epoch 63/100\n",
      "964710/964710 [==============================] - 80s 83us/step - loss: 0.7905 - val_loss: 0.8019\n",
      "Epoch 64/100\n",
      "964710/964710 [==============================] - 80s 83us/step - loss: 0.7877 - val_loss: 0.8156\n",
      "Epoch 65/100\n",
      "964710/964710 [==============================] - 80s 82us/step - loss: 0.7990 - val_loss: 0.7857\n",
      "Epoch 66/100\n",
      "964710/964710 [==============================] - 80s 82us/step - loss: 0.8011 - val_loss: 0.7875\n",
      "Epoch 67/100\n",
      "964710/964710 [==============================] - 80s 83us/step - loss: 0.8097 - val_loss: 0.8204\n",
      "Epoch 68/100\n",
      "964710/964710 [==============================] - 80s 82us/step - loss: 0.8038 - val_loss: 0.7964\n",
      "Epoch 69/100\n",
      "964710/964710 [==============================] - 80s 83us/step - loss: 0.8064 - val_loss: 0.7979\n",
      "Epoch 70/100\n",
      "964710/964710 [==============================] - 80s 83us/step - loss: 0.8114 - val_loss: 0.7973\n",
      "Epoch 71/100\n",
      "964710/964710 [==============================] - 80s 83us/step - loss: 0.7916 - val_loss: 0.7833\n",
      "Epoch 72/100\n",
      "964710/964710 [==============================] - 79s 82us/step - loss: 0.8319 - val_loss: 0.9133\n",
      "Epoch 73/100\n",
      "964710/964710 [==============================] - 80s 83us/step - loss: 0.8321 - val_loss: 0.7888\n",
      "Epoch 74/100\n",
      "964710/964710 [==============================] - 79s 82us/step - loss: 0.8075 - val_loss: 0.7922\n",
      "Epoch 75/100\n"
     ]
    },
    {
     "name": "stdout",
     "output_type": "stream",
     "text": [
      "964710/964710 [==============================] - 74s 77us/step - loss: 0.8082 - val_loss: 0.8056\n",
      "Epoch 76/100\n",
      "964710/964710 [==============================] - 75s 78us/step - loss: 0.8101 - val_loss: 0.7876\n",
      "Epoch 77/100\n",
      "964710/964710 [==============================] - 74s 77us/step - loss: 0.8276 - val_loss: 0.7868\n",
      "Epoch 78/100\n",
      "964710/964710 [==============================] - 78s 81us/step - loss: 0.8576 - val_loss: 0.7965\n",
      "Epoch 79/100\n",
      "964710/964710 [==============================] - 79s 82us/step - loss: 0.8147 - val_loss: 0.7938\n",
      "Epoch 80/100\n",
      "964710/964710 [==============================] - 78s 81us/step - loss: 0.7976 - val_loss: 0.7825\n",
      "Epoch 81/100\n",
      "964710/964710 [==============================] - 79s 82us/step - loss: 0.8051 - val_loss: 0.8121\n",
      "Epoch 82/100\n",
      "964710/964710 [==============================] - 79s 82us/step - loss: 0.8035 - val_loss: 0.8133\n",
      "Epoch 83/100\n",
      "964710/964710 [==============================] - 372s 385us/step - loss: 0.7927 - val_loss: 0.7868\n",
      "Epoch 84/100\n",
      "964710/964710 [==============================] - 79s 82us/step - loss: 0.8385 - val_loss: 0.7844\n",
      "Epoch 85/100\n",
      "964710/964710 [==============================] - 79s 82us/step - loss: 0.8718 - val_loss: 0.7944\n",
      "Epoch 86/100\n",
      "964710/964710 [==============================] - 80s 82us/step - loss: 0.8094 - val_loss: 0.7849\n",
      "Epoch 87/100\n",
      "964710/964710 [==============================] - 80s 83us/step - loss: 0.8097 - val_loss: 0.7837\n",
      "Epoch 88/100\n",
      "964710/964710 [==============================] - 79s 82us/step - loss: 0.8058 - val_loss: 0.7883\n",
      "Epoch 89/100\n",
      "964710/964710 [==============================] - 80s 83us/step - loss: 0.8833 - val_loss: 0.8525\n",
      "Epoch 90/100\n",
      "964710/964710 [==============================] - 80s 83us/step - loss: 0.8388 - val_loss: 0.7855\n",
      "Epoch 91/100\n",
      "964710/964710 [==============================] - 80s 83us/step - loss: 0.8300 - val_loss: 0.8005\n",
      "Epoch 92/100\n",
      "964710/964710 [==============================] - 80s 83us/step - loss: 0.8471 - val_loss: 0.7923\n",
      "Epoch 93/100\n",
      "964710/964710 [==============================] - 80s 83us/step - loss: 0.8098 - val_loss: 0.8392\n",
      "Epoch 94/100\n",
      "964710/964710 [==============================] - 79s 82us/step - loss: 0.8075 - val_loss: 1.7450\n",
      "Epoch 95/100\n",
      "964710/964710 [==============================] - 81s 84us/step - loss: 0.8045 - val_loss: 0.8230\n",
      "Epoch 96/100\n",
      "964710/964710 [==============================] - 83s 86us/step - loss: 0.8438 - val_loss: 0.7871\n",
      "Epoch 97/100\n",
      "964710/964710 [==============================] - 80s 83us/step - loss: 0.7963 - val_loss: 0.7866\n",
      "Epoch 98/100\n",
      "964710/964710 [==============================] - 80s 83us/step - loss: 0.7917 - val_loss: 0.8051\n",
      "Epoch 99/100\n",
      "964710/964710 [==============================] - 82s 85us/step - loss: 0.8219 - val_loss: 0.7825\n",
      "Epoch 100/100\n",
      "964710/964710 [==============================] - 84s 87us/step - loss: 0.7999 - val_loss: 0.8234\n",
      "Training done with a loss of 0.8008151655623648\n"
     ]
    }
   ],
   "source": [
    "factor.train(df)"
   ]
  },
  {
   "cell_type": "markdown",
   "metadata": {},
   "source": [
    "Plot the history of the training"
   ]
  },
  {
   "cell_type": "code",
   "execution_count": 30,
   "metadata": {},
   "outputs": [
    {
     "data": {
      "text/plain": [
       "Text(0,0.5,'Train Error')"
      ]
     },
     "execution_count": 30,
     "metadata": {},
     "output_type": "execute_result"
    },
    {
     "data": {
      "image/png": "[encoded data removed]",
      "text/plain": [
       "<Figure size 432x288 with 1 Axes>"
      ]
     },
     "metadata": {},
     "output_type": "display_data"
    }
   ],
   "source": [
    "pd.Series(factor.history.history['loss']).plot(logy=True)\n",
    "plt.xlabel(\"Epoch\")\n",
    "plt.ylabel(\"Train Error\")"
   ]
  },
  {
   "cell_type": "markdown",
   "metadata": {},
   "source": [
    "Prediction for the users/movies for the submission"
   ]
  },
  {
   "cell_type": "code",
   "execution_count": 27,
   "metadata": {},
   "outputs": [
    {
     "name": "stdout",
     "output_type": "stream",
     "text": [
      "predicting...\n",
      "1176952/1176952 [==============================] - 10s 8us/step\n",
      "done predicting\n"
     ]
    }
   ],
   "source": [
    "factor.predict(subdf.user_id, subdf.item_id)"
   ]
  },
  {
   "cell_type": "markdown",
   "metadata": {},
   "source": [
    "Saving the result as a csv file"
   ]
  },
  {
   "cell_type": "code",
   "execution_count": 13,
   "metadata": {},
   "outputs": [
    {
     "name": "stdout",
     "output_type": "stream",
     "text": [
      "prediction saved at ../reports/to_submit/neural_fact_32_32_100.csv\n"
     ]
    }
   ],
   "source": [
    "factor.save(subdf, \"../reports/to_submit/neural_fact_5_8_100.csv\")"
   ]
  },
  {
   "cell_type": "markdown",
   "metadata": {},
   "source": [
    "Export model image"
   ]
  },
  {
   "cell_type": "code",
   "execution_count": 12,
   "metadata": {},
   "outputs": [],
   "source": [
    "from keras.utils import plot_model\n",
    "plot_model(factor.model, to_file='../reports/imgs/model_factor.png', show_layer_names=True)"
   ]
  },
  {
   "cell_type": "markdown",
   "metadata": {},
   "source": [
    "## Collaborative Filtering"
   ]
  },
  {
   "cell_type": "markdown",
   "metadata": {},
   "source": [
    "Inspiration taken from https://github.com/chen0040/keras-recommender\n",
    "See `src/models/neural_network/nn.py` for model implementation.\n",
    "\n",
    "Initialisation and creation of the model"
   ]
  },
  {
   "cell_type": "markdown",
   "metadata": {},
   "source": [
    "Change this `nonneg` varialble to add a non-negativity constraint on neural networks."
   ]
  },
  {
   "cell_type": "code",
   "execution_count": 13,
   "metadata": {},
   "outputs": [],
   "source": [
    "nonneg = True"
   ]
  },
  {
   "cell_type": "code",
   "execution_count": 14,
   "metadata": {},
   "outputs": [
    {
     "name": "stdout",
     "output_type": "stream",
     "text": [
      "__________________________________________________________________________________________________\n",
      "Layer (type)                    Output Shape         Param #     Connected to                     \n",
      "==================================================================================================\n",
      "user (InputLayer)               (None, 1)            0                                            \n",
      "__________________________________________________________________________________________________\n",
      "item (InputLayer)               (None, 1)            0                                            \n",
      "__________________________________________________________________________________________________\n",
      "user_embedding (Embedding)      (None, 1, 100)       1000100     user[0][0]                       \n",
      "__________________________________________________________________________________________________\n",
      "item_embedding (Embedding)      (None, 1, 100)       100100      item[0][0]                       \n",
      "__________________________________________________________________________________________________\n",
      "flatten_1 (Flatten)             (None, 100)          0           user_embedding[0][0]             \n",
      "__________________________________________________________________________________________________\n",
      "flatten_2 (Flatten)             (None, 100)          0           item_embedding[0][0]             \n",
      "__________________________________________________________________________________________________\n",
      "user_dropout (Dropout)          (None, 100)          0           flatten_1[0][0]                  \n",
      "__________________________________________________________________________________________________\n",
      "item_dropout (Dropout)          (None, 100)          0           flatten_2[0][0]                  \n",
      "__________________________________________________________________________________________________\n",
      "dot_1 (Dot)                     (None, 1)            0           user_dropout[0][0]               \n",
      "                                                                 item_dropout[0][0]               \n",
      "==================================================================================================\n",
      "Total params: 1,100,200\n",
      "Trainable params: 1,100,200\n",
      "Non-trainable params: 0\n",
      "__________________________________________________________________________________________________\n"
     ]
    }
   ],
   "source": [
    "cf = NeuralCF(nonneg)\n",
    "cf.create_model(n_users, n_items)\n",
    "cf.model.summary()"
   ]
  },
  {
   "cell_type": "markdown",
   "metadata": {},
   "source": [
    "Export model image"
   ]
  },
  {
   "cell_type": "code",
   "execution_count": 15,
   "metadata": {},
   "outputs": [],
   "source": [
    "from keras.utils import plot_model\n",
    "plot_model(cf.model, to_file='../reports/imgs/model_cf.png', show_layer_names=True)"
   ]
  },
  {
   "cell_type": "markdown",
   "metadata": {},
   "source": [
    "Training.\n",
    "Feel free to change the number of `epochs` (default = 10)"
   ]
  },
  {
   "cell_type": "code",
   "execution_count": 16,
   "metadata": {},
   "outputs": [
    {
     "name": "stdout",
     "output_type": "stream",
     "text": [
      "Train on 1205888 samples, validate on 241178 samples\n",
      "Epoch 1/20\n",
      "1205888/1205888 [==============================] - 314s 261us/step - loss: 1.0557 - val_loss: 0.8698\n",
      "Epoch 2/20\n",
      "1205888/1205888 [==============================] - 314s 260us/step - loss: 0.9214 - val_loss: 0.8389\n",
      "Epoch 3/20\n",
      "1205888/1205888 [==============================] - 308s 256us/step - loss: 0.9065 - val_loss: 0.8190\n",
      "Epoch 4/20\n",
      "1205888/1205888 [==============================] - 308s 256us/step - loss: 0.8956 - val_loss: 0.8069\n",
      "Epoch 5/20\n",
      "1205888/1205888 [==============================] - 310s 257us/step - loss: 0.8866 - val_loss: 0.8003\n",
      "Epoch 6/20\n",
      "1205888/1205888 [==============================] - 313s 260us/step - loss: 0.8797 - val_loss: 0.7922\n",
      "Epoch 7/20\n",
      "1205888/1205888 [==============================] - 316s 262us/step - loss: 0.8764 - val_loss: 0.7849\n",
      "Epoch 8/20\n",
      "1205888/1205888 [==============================] - 306s 253us/step - loss: 0.8719 - val_loss: 0.7782\n",
      "Epoch 9/20\n",
      "1205888/1205888 [==============================] - 307s 254us/step - loss: 0.8691 - val_loss: 0.7726\n",
      "Epoch 10/20\n",
      "1205888/1205888 [==============================] - 302s 250us/step - loss: 0.8667 - val_loss: 0.7720\n",
      "Epoch 11/20\n",
      "1205888/1205888 [==============================] - 306s 254us/step - loss: 0.8644 - val_loss: 0.7672\n",
      "Epoch 12/20\n",
      "1205888/1205888 [==============================] - 306s 254us/step - loss: 0.8622 - val_loss: 0.7653\n",
      "Epoch 13/20\n",
      "1205888/1205888 [==============================] - 305s 253us/step - loss: 0.8608 - val_loss: 0.7624\n",
      "Epoch 14/20\n",
      "1205888/1205888 [==============================] - 310s 257us/step - loss: 0.8604 - val_loss: 0.7598\n",
      "Epoch 15/20\n",
      "1205888/1205888 [==============================] - 308s 256us/step - loss: 0.8593 - val_loss: 0.7636\n",
      "Epoch 16/20\n",
      "1205888/1205888 [==============================] - 300s 249us/step - loss: 0.8570 - val_loss: 0.7563\n",
      "Epoch 17/20\n",
      "1205888/1205888 [==============================] - 312s 259us/step - loss: 0.8568 - val_loss: 0.7575\n",
      "Epoch 18/20\n",
      "1205888/1205888 [==============================] - 312s 258us/step - loss: 0.8554 - val_loss: 0.7560\n",
      "Epoch 19/20\n",
      "1205888/1205888 [==============================] - 318s 264us/step - loss: 0.8552 - val_loss: 0.7541\n",
      "Epoch 20/20\n",
      "1205888/1205888 [==============================] - 309s 257us/step - loss: 0.8546 - val_loss: 0.7513\n",
      "Training done with a loss of 0.712809626085298\n"
     ]
    }
   ],
   "source": [
    "cf.train(df, epochs=20)"
   ]
  },
  {
   "cell_type": "markdown",
   "metadata": {},
   "source": [
    "Plot the history"
   ]
  },
  {
   "cell_type": "code",
   "execution_count": 20,
   "metadata": {},
   "outputs": [
    {
     "data": {
      "text/plain": [
       "Text(0,0.5,'Train Error')"
      ]
     },
     "execution_count": 20,
     "metadata": {},
     "output_type": "execute_result"
    },
    {
     "data": {
      "image/png": "[encoded data removed]",
      "text/plain": [
       "<Figure size 432x288 with 1 Axes>"
      ]
     },
     "metadata": {},
     "output_type": "display_data"
    }
   ],
   "source": [
    "pd.Series(cf.history.history['loss']).plot(logy=True)\n",
    "plt.xlabel(\"Epoch\")\n",
    "plt.ylabel(\"Train Error\")"
   ]
  },
  {
   "cell_type": "markdown",
   "metadata": {},
   "source": [
    "Prediction for the users/movies for the submission"
   ]
  },
  {
   "cell_type": "code",
   "execution_count": 21,
   "metadata": {},
   "outputs": [
    {
     "name": "stdout",
     "output_type": "stream",
     "text": [
      "predicting...\n",
      "1176952/1176952 [==============================] - 6s 5us/step\n",
      "done predicting\n"
     ]
    }
   ],
   "source": [
    "cf.predict(subdf.user_id, subdf.item_id)"
   ]
  },
  {
   "cell_type": "markdown",
   "metadata": {},
   "source": [
    "Save predictions to a csv file."
   ]
  },
  {
   "cell_type": "code",
   "execution_count": 22,
   "metadata": {},
   "outputs": [
    {
     "name": "stdout",
     "output_type": "stream",
     "text": [
      "prediction saved at ../reports/to_submit/neural_cf_20_nn.csv\n"
     ]
    }
   ],
   "source": [
    "cf.save(subdf, \"../reports/to_submit/neural_cf_20_nn.csv\")"
   ]
  }
 ],
 "metadata": {
  "kernelspec": {
   "display_name": "Python 3",
   "language": "python",
   "name": "python3"
  },
  "language_info": {
   "codemirror_mode": {
    "name": "ipython",
    "version": 3
   },
   "file_extension": ".py",
   "mimetype": "text/x-python",
   "name": "python",
   "nbconvert_exporter": "python",
   "pygments_lexer": "ipython3",
   "version": "3.6.5"
  }
 },
 "nbformat": 4,
 "nbformat_minor": 2
}
