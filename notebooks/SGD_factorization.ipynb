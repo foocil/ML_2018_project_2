{
 "cells": [
  {
   "cell_type": "code",
   "execution_count": 26,
   "metadata": {
    "collapsed": true
   },
   "outputs": [],
   "source": [
    "import csv\n",
    "import numpy as np\n",
    "import matplotlib.pyplot as plt\n",
    "import pandas as pd\n",
    "\n",
    "def MF_SGD(data):\n",
    "    item_features, user_features, rmse = matrix_factorization_SGD(data, 0.008, 0.01, 0.01, 20, 30)\n",
    "    sparse_matrix = user_features.dot(item_features.T)\n",
    "    return sparse_matrix\n",
    "\n",
    "def compute_error_alternative(data, user_features, item_features, nz):\n",
    "    \"\"\"compute the loss (MSE) of the prediction of nonzero elements.\"\"\"\n",
    "    mse = 0\n",
    "    for row, col in nz:\n",
    "        item_info = item_features[col]\n",
    "        user_info = user_features[row]\n",
    "        mse += (data[row, col] - user_info.T.dot(item_info)) ** 2\n",
    "    return np.sqrt(1.0 * mse / len(nz))\n",
    "\n",
    "def parser(path_csv) :\n",
    "    maxUserId = 0\n",
    "    maxMovieId = 0\n",
    "    with open(path_csv, 'r') as csvfile:\n",
    "        linereader = csv.reader(csvfile, delimiter = ',')\n",
    "        next(linereader)\n",
    "        \n",
    "        for row in linereader:\n",
    "            rx, cy = row[0].split('_')\n",
    "            x, y = int(rx[1:]), int(cy[1:])\n",
    "            maxUserId = max(maxUserId, x)\n",
    "            maxMovieId = max(maxMovieId, y)\n",
    "    sparse_matrix = np.zeros((maxUserId,maxMovieId))\n",
    "    with open(path_csv, 'r') as csvfile:\n",
    "        linereader = csv.reader(csvfile, delimiter = ',')\n",
    "        next(linereader)\n",
    "        for row in linereader:\n",
    "            rx, cy = row[0].split('_')\n",
    "            x, y = int(rx[1:]), int(cy[1:])\n",
    "            sparse_matrix[x-1][y-1] = int(row[1])\n",
    "    return sparse_matrix\n",
    "\n",
    "def matrix_factorization_SGD(train, gamma, lambda_user, lambda_item, num_features, num_epochs):\n",
    "    \"\"\"matrix factorization by SGD.\"\"\"\n",
    "    errors = [0]\n",
    "    \n",
    "    # seed\n",
    "    np.random.seed(988)  \n",
    "    \n",
    "    # init matrices\n",
    "    num_users, num_items = train.shape \n",
    "    user_features = np.random.rand(num_users, num_features)\n",
    "    item_features = np.random.rand(num_items, num_features)\n",
    "    \n",
    "    # non-zero ratings indices \n",
    "    nz_row, nz_col = np.nonzero(train)\n",
    "    nz_train = list(zip(nz_row, nz_col))\n",
    "    print(\"Learning matrix factorization...\")\n",
    "    for it in range(num_epochs):        \n",
    "        # shuffle the training rating indices\n",
    "        np.random.shuffle(nz_train)\n",
    "\n",
    "        # decrease step size\n",
    "        gamma /= 1.2\n",
    "        \n",
    "        for x, y in nz_train:\n",
    "            item_info = item_features[y]\n",
    "            user_info = user_features[x]\n",
    "\n",
    "            # compute error : correct value - prediction\n",
    "            err = train[x, y] - user_info.dot(item_info.T)\n",
    "\n",
    "            # update latent factors\n",
    "            item_features[y] += gamma * (err * user_info - lambda_item * item_info)\n",
    "            user_features[x] += gamma * (err * item_info - lambda_user * user_info)\n",
    "\n",
    "        rmse = compute_error_alternative(train, user_features, item_features, nz_train)\n",
    "        print(\"iteration: {}, RMSE on training set: {}.\".format(it, rmse))\n",
    "        errors.append(rmse)\n",
    "\n",
    "    return item_features, user_features, errors"
   ]
  },
  {
   "cell_type": "code",
   "execution_count": 27,
   "metadata": {},
   "outputs": [
    {
     "name": "stdout",
     "output_type": "stream",
     "text": [
      "Learning matrix factorization...\n",
      "iteration: 0, RMSE on training set: 1.005979852470761.\n",
      "iteration: 1, RMSE on training set: 0.99562723154779.\n",
      "iteration: 2, RMSE on training set: 0.992188669307008.\n",
      "iteration: 3, RMSE on training set: 0.9896146826360068.\n",
      "iteration: 4, RMSE on training set: 0.9883877212533049.\n",
      "iteration: 5, RMSE on training set: 0.9868366331631652.\n",
      "iteration: 6, RMSE on training set: 0.9857337677964106.\n",
      "iteration: 7, RMSE on training set: 0.9847811306346373.\n",
      "iteration: 8, RMSE on training set: 0.9845721637083699.\n",
      "iteration: 9, RMSE on training set: 0.9837766810777655.\n",
      "iteration: 10, RMSE on training set: 0.9835880587912433.\n",
      "iteration: 11, RMSE on training set: 0.9829525727532762.\n",
      "iteration: 12, RMSE on training set: 0.9827335842837153.\n",
      "iteration: 13, RMSE on training set: 0.9824424619496241.\n",
      "iteration: 14, RMSE on training set: 0.9823578247036814.\n",
      "iteration: 15, RMSE on training set: 0.9821556064608257.\n",
      "iteration: 16, RMSE on training set: 0.9820439144588622.\n",
      "iteration: 17, RMSE on training set: 0.981990661714217.\n",
      "iteration: 18, RMSE on training set: 0.9818509013212792.\n",
      "iteration: 19, RMSE on training set: 0.981825556207817.\n",
      "iteration: 20, RMSE on training set: 0.9817973529915415.\n",
      "iteration: 21, RMSE on training set: 0.9817535818226246.\n",
      "iteration: 22, RMSE on training set: 0.9817251019102882.\n",
      "iteration: 23, RMSE on training set: 0.9817113028710085.\n",
      "iteration: 24, RMSE on training set: 0.9816983778903956.\n",
      "iteration: 25, RMSE on training set: 0.9816748541993032.\n",
      "iteration: 26, RMSE on training set: 0.9816564496282921.\n",
      "iteration: 27, RMSE on training set: 0.9816466951729671.\n",
      "iteration: 28, RMSE on training set: 0.9816396327507004.\n",
      "iteration: 29, RMSE on training set: 0.9816330547739894.\n"
     ]
    }
   ],
   "source": [
    "### path to the data\n",
    "path = \"../data/\"\n",
    "file_to_read = \"data_train.csv\"\n",
    "fileread = path + file_to_read\n",
    "fileread\n",
    "train = parser(fileread)\n",
    "i, u, err = matrix_factorization_SGD(train, 0.008, 0.01, 0.01, 20, 30)"
   ]
  },
  {
   "cell_type": "code",
   "execution_count": 25,
   "metadata": {},
   "outputs": [
    {
     "data": {
      "text/plain": [
       "<matplotlib.text.Text at 0x2008ae3dba8>"
      ]
     },
     "execution_count": 25,
     "metadata": {},
     "output_type": "execute_result"
    },
    {
     "data": {
      "image/png": "[encoded data removed]",
      "text/plain": [
       "<matplotlib.figure.Figure at 0x20082533cf8>"
      ]
     },
     "metadata": {},
     "output_type": "display_data"
    }
   ],
   "source": [
    "%matplotlib inline\n",
    "pd.Series(err[1:]).plot(logy=True)\n",
    "plt.xlabel(\"Iteration\")\n",
    "plt.ylabel(\"Train Error\")"
   ]
  },
  {
   "cell_type": "markdown",
   "metadata": {},
   "source": [
    "## Matrix Factorization implemented with Surprise\n",
    "We used this to find the best parameters, since this library has a method cross-validate."
   ]
  },
  {
   "cell_type": "code",
   "execution_count": 28,
   "metadata": {
    "collapsed": true
   },
   "outputs": [],
   "source": [
    "import surprise\n",
    "\n",
    "class MF_SGD(surprise.AlgoBase):\n",
    "    '''Prediction algorithm based on matrix factorization using SGD'''\n",
    "    \n",
    "    def __init__(self, gamma, num_features, lambda_user, lambda_item, num_epochs):\n",
    "        # initialize parameters\n",
    "        self.gamma = gamma\n",
    "        self.num_features = num_features\n",
    "        self.lambda_user = lambda_user\n",
    "        self.lambda_item = lambda_item\n",
    "        self.num_epochs = num_epochs\n",
    "\n",
    "        \n",
    "    def fit(self, trainset):\n",
    "        '''learn the vectors user_features and item_features with SGD'''\n",
    "    \n",
    "        print('Fitting data with SGD...')\n",
    "        \n",
    "        # randomly initialize the user and item factors.\n",
    "        user_features = np.random.normal(0, .1, (trainset.n_users, self.num_features))\n",
    "        item_features = np.random.normal(0, .1, (trainset.n_items, self.num_features))\n",
    "        \n",
    "        # SGD procedure\n",
    "        for _ in range(self.num_epochs):\n",
    "            for u, i, r_ui in trainset.all_ratings():\n",
    "                user_info = user_features[u]\n",
    "                item_info = item_features[i]\n",
    "                err = r_ui - np.dot(user_features[u], item_features[i])\n",
    "                # update vectors\n",
    "                user_features[u] += self.gamma * (err * item_info - self.lambda_user * user_info)\n",
    "                item_features[i] += self.gamma * (err * user_info - self.lambda_item * item_info)\n",
    "        \n",
    "        self.user_features, self.item_features = user_features, item_features\n",
    "        self.trainset = trainset\n",
    "\n",
    "    def estimate(self, u, i):\n",
    "        '''return the estimated rating of user u for item i.'''\n",
    "        # return scalar product between the vectors if user and item are known,\n",
    "        # else return the average of all ratings\n",
    "        if self.trainset.knows_user(u) and self.trainset.knows_item(i):\n",
    "            return np.dot(self.user_features[u], self.item_features[i])\n",
    "        else:\n",
    "            return self.trainset.global_mean\n",
    "\n",
    "def rmse_to_csv(rmse, params, name):\n",
    "    with open(name, 'w', newline='') as csvfile:\n",
    "        fieldnames = ['Rmse','Parameters']\n",
    "        writer = csv.DictWriter(csvfile, delimiter=\",\", fieldnames=fieldnames)\n",
    "        writer.writeheader()\n",
    "        for r1, r2 in zip(rmse, params):\n",
    "            writer.writerow({'Rmse':r1, 'Parameters':r2})"
   ]
  },
  {
   "cell_type": "code",
   "execution_count": null,
   "metadata": {
    "collapsed": true
   },
   "outputs": [],
   "source": [
    "write_new_csv(\"../data/data_train.csv\")\n",
    "reader = surprise.Reader(line_format=\"user item rating\", sep=',', rating_scale=(1, 5))\n",
    "data = surprise.Dataset.load_from_file('new_data.csv', reader=reader)\n",
    "rmses = []\n",
    "params = []       \n",
    "#try for some combination of parameters\n",
    "for gamma in [0.004, 0.006, 0.008, 0.1]:\n",
    "    for lu in [0.01, 0.03, 0.05, 0.07]:\n",
    "        for li in [0.01, 0.03, 0.05, 0.07]:\n",
    "            params.append((gamma, lu, li))           \n",
    "for (g, lu, li) in params:\n",
    "    algo = MF_SGD(gamma=g, num_features=20, lambda_user=lu, lambda_item=li, num_epochs=10)\n",
    "    rmse = surprise.model_selection.cross_validate(algo, data, measures=['RMSE'])\n",
    "    rmses.append(rmse)\n",
    "rmse_to_csv(rmses, params, \"error_sur1.csv\")\n",
    "print(\"fin\")"
   ]
  }
 ],
 "metadata": {
  "kernelspec": {
   "display_name": "Python 3",
   "language": "python",
   "name": "python3"
  },
  "language_info": {
   "codemirror_mode": {
    "name": "ipython",
    "version": 3
   },
   "file_extension": ".py",
   "mimetype": "text/x-python",
   "name": "python",
   "nbconvert_exporter": "python",
   "pygments_lexer": "ipython3",
   "version": "3.6.1"
  }
 },
 "nbformat": 4,
 "nbformat_minor": 2
}
