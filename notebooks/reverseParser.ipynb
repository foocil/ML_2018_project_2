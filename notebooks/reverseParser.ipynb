{
 "cells": [
  {
   "cell_type": "code",
   "execution_count": 2,
   "metadata": {},
   "outputs": [],
   "source": [
    "import csv\n",
    "import numpy as np"
   ]
  },
  {
   "cell_type": "code",
   "execution_count": 3,
   "metadata": {},
   "outputs": [],
   "source": [
    "def reverseParser(sparse_matrix, filename):\n",
    "    with open(filename, 'w',newline='') as csvfile:\n",
    "        linewriter = csv.writer(csvfile, delimiter =',')\n",
    "        linewriter.writerow([\"Id\",\"Prediction\"])\n",
    "        for column in range(sparse_matrix.shape[1]):\n",
    "            for row in range(sparse_matrix.shape[0]):\n",
    "                if(sparse_matrix[row][column] > 0):\n",
    "                    rx_cy = \"r\"+str(row+1)+\"_c\"+str(column+1)\n",
    "                    linewriter.writerow([rx_cy, sparse_matrix[row][column]])"
   ]
  }
 ],
 "metadata": {
  "kernelspec": {
   "display_name": "Python 3",
   "language": "python",
   "name": "python3"
  },
  "language_info": {
   "codemirror_mode": {
    "name": "ipython",
    "version": 3
   },
   "file_extension": ".py",
   "mimetype": "text/x-python",
   "name": "python",
   "nbconvert_exporter": "python",
   "pygments_lexer": "ipython3",
   "version": "3.6.5"
  }
 },
 "nbformat": 4,
 "nbformat_minor": 2
}
