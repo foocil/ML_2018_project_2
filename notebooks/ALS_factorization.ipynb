{
 "cells": [
  {
   "cell_type": "code",
   "execution_count": 1,
   "metadata": {},
   "outputs": [],
   "source": [
    "import numpy as np\n",
    "import csv\n",
    "import scipy\n",
    "import scipy.io\n",
    "import scipy.sparse as sp\n",
    "import matplotlib.pyplot as plt\n",
    "import pandas as pd"
   ]
  },
  {
   "cell_type": "code",
   "execution_count": 2,
   "metadata": {},
   "outputs": [],
   "source": [
    "def init_MF(train, num_features):\n",
    "    \"\"\"init the parameter for matrix factorization.\"\"\"\n",
    "        \n",
    "    num_item, num_user = train.shape\n",
    "\n",
    "    user_features = np.random.rand(num_features, num_user)\n",
    "    item_features = np.random.rand(num_features, num_item)\n",
    "\n",
    "    # start by item features.\n",
    "    item_nnz = train.getnnz(axis=1)\n",
    "    item_sum = train.sum(axis=1)\n",
    "\n",
    "    for ind in range(num_item):\n",
    "        item_features[0, ind] = item_sum[ind, 0] / item_nnz[ind]\n",
    "    return user_features, item_features"
   ]
  },
  {
   "cell_type": "code",
   "execution_count": 3,
   "metadata": {},
   "outputs": [],
   "source": [
    "def compute_error(data, user_features, item_features, nz):\n",
    "    \"\"\"compute the loss (MSE) of the prediction of nonzero elements.\"\"\"\n",
    "    mse = 0\n",
    "    for row, col in nz:\n",
    "        item_info = item_features[:, row]\n",
    "        user_info = user_features[:, col]\n",
    "        mse += (data[row, col] - user_info.T.dot(item_info)) ** 2\n",
    "    return np.sqrt(1.0 * mse / len(nz))"
   ]
  },
  {
   "cell_type": "code",
   "execution_count": 4,
   "metadata": {},
   "outputs": [],
   "source": [
    "def update_user_feature(\n",
    "        train, item_features, lambda_user,\n",
    "        nnz_items_per_user, nz_user_itemindices):\n",
    "    \"\"\"update user feature matrix.\"\"\"\n",
    "    \"\"\"the best lambda is assumed to be nnz_items_per_user[user] * lambda_user\"\"\"\n",
    "    num_user = nnz_items_per_user.shape[0]\n",
    "    num_feature = item_features.shape[0]\n",
    "    lambda_I = lambda_user * sp.eye(num_feature)\n",
    "    updated_user_features = np.zeros((num_feature, num_user))\n",
    "\n",
    "    for user, items in nz_user_itemindices:\n",
    "        # extract the columns corresponding to the prediction for given item\n",
    "        M = item_features[:, items]\n",
    "        \n",
    "        # update column row of user features\n",
    "        V = M @ train[items, user]\n",
    "        A = M @ M.T + nnz_items_per_user[user] * lambda_I\n",
    "        X = np.linalg.solve(A, V)\n",
    "        updated_user_features[:, user] = np.copy(X.T)\n",
    "    return updated_user_features\n",
    "\n",
    "def update_item_feature(\n",
    "        train, user_features, lambda_item,\n",
    "        nnz_users_per_item, nz_item_userindices):\n",
    "    \"\"\"update item feature matrix.\"\"\"\n",
    "    \"\"\"the best lambda is assumed to be nnz_items_per_item[item] * lambda_item\"\"\"\n",
    "    num_item = nnz_users_per_item.shape[0]\n",
    "    num_feature = user_features.shape[0]\n",
    "    lambda_I = lambda_item * sp.eye(num_feature)\n",
    "    updated_item_features = np.zeros((num_feature, num_item))\n",
    "\n",
    "    for item, users in nz_item_userindices:\n",
    "        # extract the columns corresponding to the prediction for given user\n",
    "        M = user_features[:, users]\n",
    "        V = M @ train[item, users].T\n",
    "        A = M @ M.T + nnz_users_per_item[item] * lambda_I\n",
    "        X = np.linalg.solve(A, V)\n",
    "        updated_item_features[:, item] = np.copy(X.T)\n",
    "    return updated_item_features"
   ]
  },
  {
   "cell_type": "code",
   "execution_count": 5,
   "metadata": {},
   "outputs": [],
   "source": [
    "from itertools import groupby\n",
    "\n",
    "def group_by(data, index):\n",
    "    \"\"\"group list of list by a specific index.\"\"\"\n",
    "    sorted_data = sorted(data, key=lambda x: x[index])\n",
    "    groupby_data = groupby(sorted_data, lambda x: x[index])\n",
    "    return groupby_data"
   ]
  },
  {
   "cell_type": "code",
   "execution_count": 6,
   "metadata": {},
   "outputs": [],
   "source": [
    "def build_index_groups(train):\n",
    "    \"\"\"build groups for nnz rows and cols.\"\"\"\n",
    "    nz_row, nz_col = train.nonzero()\n",
    "    nz_train = list(zip(nz_row, nz_col))\n",
    "\n",
    "    grouped_nz_train_byrow = group_by(nz_train, index=0)\n",
    "    nz_row_colindices = [(g, np.array([v[1] for v in value]))\n",
    "                         for g, value in grouped_nz_train_byrow]\n",
    "\n",
    "    grouped_nz_train_bycol = group_by(nz_train, index=1)\n",
    "    nz_col_rowindices = [(g, np.array([v[0] for v in value]))\n",
    "                         for g, value in grouped_nz_train_bycol]\n",
    "    return nz_train, nz_row_colindices, nz_col_rowindices"
   ]
  },
  {
   "cell_type": "code",
   "execution_count": 7,
   "metadata": {},
   "outputs": [],
   "source": [
    "def ALS(train):\n",
    "    \"\"\"Alternating Least Squares (ALS) algorithm.\"\"\"\n",
    "    # define parameters\n",
    "    num_features = 20   # K in the lecture notes\n",
    "    lambda_user = 0.08\n",
    "    lambda_item = 0.08\n",
    "    stop_criterion = 1e-4\n",
    "    change = 1\n",
    "    error_list = [0, 0]\n",
    "    train = sp.csr_matrix(train)\n",
    "    # set seed\n",
    "    np.random.seed(988)\n",
    "\n",
    "    # init ALS\n",
    "    user_features, item_features = init_MF(train, num_features)\n",
    "    \n",
    "    # get the number of non-zero ratings for each user and item\n",
    "    nnz_items_per_user, nnz_users_per_item = train.getnnz(axis=0), train.getnnz(axis=1)\n",
    "    \n",
    "    # group the indices by row or column index\n",
    "    nz_train, nz_item_userindices, nz_user_itemindices = build_index_groups(train)\n",
    "\n",
    "    # run ALS\n",
    "    print(\"\\nstart the ALS algorithm...\")\n",
    "    while change > stop_criterion:\n",
    "        # update user feature & item feature\n",
    "        user_features = update_user_feature(\n",
    "            train, item_features, lambda_user,\n",
    "            nnz_items_per_user, nz_user_itemindices)\n",
    "        item_features = update_item_feature(\n",
    "            train, user_features, lambda_item,\n",
    "            nnz_users_per_item, nz_item_userindices)\n",
    "\n",
    "        error = compute_error(train, user_features, item_features, nz_train)\n",
    "        print(\"RMSE on training set: {}.\".format(error))\n",
    "        error_list.append(error)\n",
    "        change = np.fabs(error_list[-1] - error_list[-2])\n",
    "        print(change)\n",
    "    \n",
    "    # evaluate the test error\n",
    "    rmse = compute_error(train, user_features, item_features, nz_train)\n",
    "    print(\"Train RMSE after running ALS: {v}.\".format(v=rmse))\n",
    "    \n",
    "    return user_features.T @ item_features, rmse"
   ]
  },
  {
   "cell_type": "code",
   "execution_count": 8,
   "metadata": {},
   "outputs": [],
   "source": [
    "def parser(path_csv) :\n",
    "    maxUserId = 0\n",
    "    maxMovieId = 0\n",
    "    with open(path_csv, 'r') as csvfile:\n",
    "        linereader = csv.reader(csvfile, delimiter = ',')\n",
    "        next(linereader)\n",
    "        \n",
    "        for row in linereader:\n",
    "            rx, cy = row[0].split('_')\n",
    "            x, y = int(rx[1:]), int(cy[1:])\n",
    "            maxUserId = max(maxUserId, x)\n",
    "            maxMovieId = max(maxMovieId, y)\n",
    "    sparse_matrix = np.zeros((maxUserId,maxMovieId))\n",
    "    with open(path_csv, 'r') as csvfile:\n",
    "        linereader = csv.reader(csvfile, delimiter = ',')\n",
    "        next(linereader)\n",
    "        for row in linereader:\n",
    "            rx, cy = row[0].split('_')\n",
    "            x, y = int(rx[1:]), int(cy[1:])\n",
    "            sparse_matrix[x-1][y-1] = int(row[1])\n",
    "    return sparse_matrix"
   ]
  },
  {
   "cell_type": "code",
   "execution_count": 9,
   "metadata": {},
   "outputs": [],
   "source": [
    "def split_data(ratings, num_items_per_user, num_users_per_item,\n",
    "               min_num_ratings, p_test=0.1):\n",
    "    \"\"\"split the ratings to training data and test data.\n",
    "    Args:\n",
    "        min_num_ratings: \n",
    "            all users and items we keep must have at least min_num_ratings per user and per item. \n",
    "    \"\"\"\n",
    "    # set seed\n",
    "    np.random.seed(988)\n",
    "    \n",
    "    # select user and item based on the condition.\n",
    "    valid_users = np.where(num_items_per_user >= min_num_ratings)[0]\n",
    "    valid_items = np.where(num_users_per_item >= min_num_ratings)[0]\n",
    "    valid_ratings = ratings[valid_items, :][: , valid_users]  \n",
    "    \n",
    "    # init\n",
    "    num_rows, num_cols = valid_ratings.shape\n",
    "    train = sp.lil_matrix((num_rows, num_cols))\n",
    "    test = sp.lil_matrix((num_rows, num_cols))\n",
    "    \n",
    "    print(\"the shape of original ratings. (# of row, # of col): {}\".format(\n",
    "        ratings.shape))\n",
    "    print(\"the shape of valid ratings. (# of row, # of col): {}\".format(\n",
    "        (num_rows, num_cols)))\n",
    "\n",
    "    nz_items, nz_users = valid_ratings.nonzero()\n",
    "    \n",
    "    # split the data\n",
    "    for user in set(nz_users):\n",
    "        # randomly select a subset of ratings\n",
    "        row, col = valid_ratings[:, user].nonzero()\n",
    "        selects = np.random.choice(row, size=int(len(row) * p_test))\n",
    "        residual = list(set(row) - set(selects))\n",
    "\n",
    "        # add to train set\n",
    "        train[residual, user] = valid_ratings[residual, user]\n",
    "\n",
    "        # add to test set\n",
    "        test[selects, user] = valid_ratings[selects, user]\n",
    "\n",
    "    print(\"Total number of nonzero elements in origial data:{v}\".format(v=ratings.nnz))\n",
    "    print(\"Total number of nonzero elements in train data:{v}\".format(v=train.nnz))\n",
    "    print(\"Total number of nonzero elements in test data:{v}\".format(v=test.nnz))\n",
    "    return valid_ratings, train, test"
   ]
  },
  {
   "cell_type": "code",
   "execution_count": 10,
   "metadata": {},
   "outputs": [],
   "source": [
    "def reverseParser(sparse_matrix, pathToSample, pathToFinal):\n",
    "    ## given the sample submission, it will update the value of each line.\n",
    "    \n",
    "    with open(pathToSample, 'r') as csvfile, open(pathToFinal, 'w', newline='') as csvFinal:\n",
    "        linereader = csv.reader(csvfile, delimiter =',')\n",
    "        linewriter = csv.writer(csvFinal, delimiter =',')\n",
    "        linewriter.writerow([\"Id\",\"Prediction\"])\n",
    "        next(linereader)\n",
    "        for row in linereader:\n",
    "            rx, cy = row[0].split('_')\n",
    "            x, y = int(rx[1:]), int(cy[1:])\n",
    "            rx_cy = \"r\"+str(x)+\"_c\"+str(y)\n",
    "            if(sparse_matrix[x-1][y-1] < 1): sparse_matrix[x-1][y-1] = 1\n",
    "            if(sparse_matrix[x-1][y-1] > 5): sparse_matrix[x-1][y-1] = 5\n",
    "            linewriter.writerow([rx_cy, int(round(sparse_matrix[x-1][y-1]))])\n",
    "    print(\"Writing is done\")"
   ]
  },
  {
   "cell_type": "code",
   "execution_count": 11,
   "metadata": {},
   "outputs": [],
   "source": [
    "### path to the data\n",
    "path = \"../data/\"\n",
    "file_to_read = \"data_train.csv\"\n",
    "fileread = path + file_to_read\n",
    "fileread\n",
    "train = parser(fileread)"
   ]
  },
  {
   "cell_type": "code",
   "execution_count": 12,
   "metadata": {},
   "outputs": [
    {
     "name": "stdout",
     "output_type": "stream",
     "text": [
      "\n",
      "start the ALS algorithm...\n",
      "RMSE on training set: 1.048153205690883.\n",
      "1.048153205690883\n",
      "RMSE on training set: 1.014050177944071.\n",
      "0.034103027746812176\n",
      "RMSE on training set: 0.9768601371898459.\n",
      "0.03719004075422505\n",
      "RMSE on training set: 0.9503021006311955.\n",
      "0.02655803655865041\n",
      "RMSE on training set: 0.9349440324499755.\n",
      "0.015358068181219986\n",
      "RMSE on training set: 0.9259827076442098.\n",
      "0.008961324805765725\n",
      "RMSE on training set: 0.9202205977082003.\n",
      "0.005762109936009452\n",
      "RMSE on training set: 0.9161983467037053.\n",
      "0.004022251004495048\n",
      "RMSE on training set: 0.9132391529908327.\n",
      "0.0029591937128725654\n",
      "RMSE on training set: 0.9109832260336556.\n",
      "0.0022559269571771345\n",
      "RMSE on training set: 0.9092165084864704.\n",
      "0.0017667175471851593\n",
      "RMSE on training set: 0.9078025825487778.\n",
      "0.0014139259376926283\n",
      "RMSE on training set: 0.9066505202210835.\n",
      "0.0011520623276942699\n",
      "RMSE on training set: 0.9056976118169013.\n",
      "0.0009529084041821623\n",
      "RMSE on training set: 0.9048993572124056.\n",
      "0.000798254604495785\n",
      "RMSE on training set: 0.9042233795795613.\n",
      "0.0006759776328442157\n",
      "RMSE on training set: 0.9036455923644462.\n",
      "0.0005777872151151442\n",
      "RMSE on training set: 0.9031477173080167.\n",
      "0.0004978750564295087\n",
      "RMSE on training set: 0.9027156385258884.\n",
      "0.00043207878212825346\n",
      "RMSE on training set: 0.9023382865648899.\n",
      "0.00037735196099852875\n",
      "RMSE on training set: 0.902006865204766.\n",
      "0.0003314213601238736\n",
      "RMSE on training set: 0.9017143041164498.\n",
      "0.0002925610883162122\n",
      "RMSE on training set: 0.9014548632276742.\n",
      "0.00025944088877560834\n",
      "RMSE on training set: 0.9012238410676461.\n",
      "0.00023102216002812703\n",
      "RMSE on training set: 0.9010173558971505.\n",
      "0.00020648517049559612\n",
      "RMSE on training set: 0.9008321788990398.\n",
      "0.0001851769981107143\n",
      "RMSE on training set: 0.9006656053959452.\n",
      "0.0001665735030945692\n",
      "RMSE on training set: 0.9005153543932779.\n",
      "0.00015025100266730096\n",
      "RMSE on training set: 0.9003794895802142.\n",
      "0.000135864813063713\n",
      "RMSE on training set: 0.9002563568119605.\n",
      "0.00012313276825370867\n",
      "RMSE on training set: 0.900144534381065.\n",
      "0.00011182243089546962\n",
      "RMSE on training set: 0.9000427932834756.\n",
      "0.00010174109758942507\n",
      "RMSE on training set: 0.8999500653310071.\n",
      "9.272795246850762e-05\n",
      "Train RMSE after running ALS: 0.8999500653310071.\n"
     ]
    }
   ],
   "source": [
    "predicted, rmse = ALS(train)"
   ]
  },
  {
   "cell_type": "code",
   "execution_count": 13,
   "metadata": {},
   "outputs": [
    {
     "data": {
      "text/plain": [
       "Text(0,0.5,'Train error')"
      ]
     },
     "execution_count": 13,
     "metadata": {},
     "output_type": "execute_result"
    },
    {
     "data": {
      "image/png": "[encoded data removed]",
      "text/plain": [
       "<Figure size 432x288 with 1 Axes>"
      ]
     },
     "metadata": {},
     "output_type": "display_data"
    }
   ],
   "source": [
    "data = [1.048153205690883, 1.014050177944071, 0.9768601371898459, 0.9349440324499755, 0.9259827076442098, 0.9202205977082003, \n",
    "        0.9161983467037053, 0.9132391529908327, 0.9109832260336556, 0.9092165084864704,\n",
    "        0.9078025825487778, 0.9066505202210835, 0.9056976118169013, 0.9048993572124056,\n",
    "        0.9042233795795613, 0.9036455923644462, 0.9031477173080167, 0.9027156385258884,\n",
    "        0.9023382865648899, 0.902006865204766, 0.9017143041164498, 0.9014548632276742,\n",
    "        0.9012238410676461, 0.9010173558971505, 0.9008321788990398, 0.9006656053959452,\n",
    "        0.9005153543932779, 0.9003794895802142, 0.9002563568119605, 0.900144534381065,\n",
    "        0.9000427932834756, 0.8999500653310071]\n",
    "\n",
    "pd.Series(data).plot(logy=True)\n",
    "plt.xlabel(\"Iterations\")\n",
    "plt.ylabel(\"Train error\")"
   ]
  },
  {
   "cell_type": "code",
   "execution_count": 14,
   "metadata": {
    "scrolled": true
   },
   "outputs": [
    {
     "name": "stdout",
     "output_type": "stream",
     "text": [
      "Writing is done\n"
     ]
    }
   ],
   "source": [
    "pathout = \"../reports/\"\n",
    "filename = \"../data/sample_submission.csv\"\n",
    "totalFinal = path + \"out\"\n",
    "totalFinal = totalFinal + \".csv\"\n",
    "reverseParser(predicted.T, filename, totalFinal)"
   ]
  },
  {
   "cell_type": "code",
   "execution_count": 15,
   "metadata": {},
   "outputs": [
    {
     "data": {
      "text/plain": [
       "'path = \"../data/\"\\nfilename = \"sample_submission.csv\"\\ntotalSample = path + filename\\ntotalFinal = path + \"outFor\"\\ntrain = sp.csr_matrix(train)\\nfor i in range(1,10):\\n    predicted = ALS(train, (1.0/10.0**i))\\n    totalFinal = totalFinal + str(i) + \".csv\"\\n    reverseParser(predicted.T, totalSample, totalFinal)'"
      ]
     },
     "execution_count": 15,
     "metadata": {},
     "output_type": "execute_result"
    }
   ],
   "source": [
    "'''path = \"../data/\"\n",
    "filename = \"sample_submission.csv\"\n",
    "totalSample = path + filename\n",
    "totalFinal = path + \"outFor\"\n",
    "train = sp.csr_matrix(train)\n",
    "for i in range(1,10):\n",
    "    predicted = ALS(train, (1.0/10.0**i))\n",
    "    totalFinal = totalFinal + str(i) + \".csv\"\n",
    "    reverseParser(predicted.T, totalSample, totalFinal)'''\n"
   ]
  }
 ],
 "metadata": {
  "kernelspec": {
   "display_name": "Python 3",
   "language": "python",
   "name": "python3"
  },
  "language_info": {
   "codemirror_mode": {
    "name": "ipython",
    "version": 3
   },
   "file_extension": ".py",
   "mimetype": "text/x-python",
   "name": "python",
   "nbconvert_exporter": "python",
   "pygments_lexer": "ipython3",
   "version": "3.6.5"
  }
 },
 "nbformat": 4,
 "nbformat_minor": 2
}
