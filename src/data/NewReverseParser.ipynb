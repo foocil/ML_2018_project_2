{
 "cells": [
  {
   "cell_type": "code",
   "execution_count": 17,
   "metadata": {},
   "outputs": [],
   "source": [
    "import csv\n",
    "import numpy as np"
   ]
  },
  {
   "cell_type": "code",
   "execution_count": 18,
   "metadata": {},
   "outputs": [],
   "source": [
    "def reverseParser(sparse_matrix, pathToSample, pathToFinal):\n",
    "    ## given the sample submission, it will update the value of each line.\n",
    "    \n",
    "    with open(pathToSample, 'r') as csvfile, open(pathToFinal, 'w', newline='') as csvFinal:\n",
    "        linereader = csv.reader(csvfile, delimiter =',')\n",
    "        linewriter = csv.writer(csvFinal, delimiter =',')\n",
    "        linewriter.writerow([\"Id\",\"Prediction\"])\n",
    "        next(linereader)\n",
    "        for row in linereader:\n",
    "            rx, cy = row[0].split('_')\n",
    "            x, y = int(rx[1:]), int(cy[1:])\n",
    "            rx_cy = \"r\"+str(x)+\"_c\"+str(y)\n",
    "            linewriter.writerow([rx_cy, sparse_matrix[x-1][y-1]])\n",
    "    print(\"Writing is done\")"
   ]
  },
  {
   "cell_type": "code",
   "execution_count": 19,
   "metadata": {},
   "outputs": [
    {
     "name": "stdout",
     "output_type": "stream",
     "text": [
      "Writing is done\n"
     ]
    }
   ],
   "source": [
    "sparse_m = np.array([[1,2,3],[4,5,6],[7,8,9]])\n",
    "path = \"../../data/\"\n",
    "filename = \"CSVTest.csv\"\n",
    "totalSample = path + filename\n",
    "totalFinal = path + \"out.csv\"\n",
    "reverseParser(sparse_m, total, totalFinal)"
   ]
  },
  {
   "cell_type": "code",
   "execution_count": null,
   "metadata": {},
   "outputs": [],
   "source": []
  }
 ],
 "metadata": {
  "kernelspec": {
   "display_name": "Python 3",
   "language": "python",
   "name": "python3"
  },
  "language_info": {
   "codemirror_mode": {
    "name": "ipython",
    "version": 3
   },
   "file_extension": ".py",
   "mimetype": "text/x-python",
   "name": "python",
   "nbconvert_exporter": "python",
   "pygments_lexer": "ipython3",
   "version": "3.6.5"
  }
 },
 "nbformat": 4,
 "nbformat_minor": 2
}
